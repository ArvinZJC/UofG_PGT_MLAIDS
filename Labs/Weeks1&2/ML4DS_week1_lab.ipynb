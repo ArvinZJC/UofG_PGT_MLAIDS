{
 "cells": [
  {
   "cell_type": "markdown",
   "metadata": {},
   "source": [
    "<h3>ML4DS Lab: week 1: Simple linear regression lab</h3>\n",
    "\n",
    "#### Aims \n",
    "\n",
    "* Do a simple linear regression on the Olympic 100~m data in Python\n",
    "* Practise numpy, matplotlib, and sklearn\n",
    "\n",
    "\n",
    "#### Tasks \n",
    "* Download the data (‘olympic100m.txt’) from the Moodle page\n",
    "* Plot Olympic year against winning time\n",
    "* Plot the loss function in 1D and 2D\n",
    "* Fit a model with sklearn functions \n",
    "* Fit a model with using provided expressions to compute $w_0$ and $w_1$. \n",
    "* Create a new plot that includes the data and the function defined by $w_0$ and $w_1$\n",
    "* Make a prediction at 2012"
   ]
  },
  {
   "cell_type": "markdown",
   "metadata": {},
   "source": [
    "#### Task 1: Download and import the olympic data\n",
    "\n",
    "Reference to `loadtxt` https://docs.scipy.org/doc/numpy/reference/generated/numpy.loadtxt.html"
   ]
  },
  {
   "cell_type": "code",
   "execution_count": 1,
   "metadata": {},
   "outputs": [
    {
     "output_type": "stream",
     "name": "stdout",
     "text": [
      "[[1896.     12.  ]\n [1900.     11.  ]\n [1904.     11.  ]\n [1906.     11.2 ]\n [1908.     10.8 ]\n [1912.     10.8 ]\n [1920.     10.8 ]\n [1924.     10.6 ]\n [1928.     10.8 ]\n [1932.     10.3 ]\n [1936.     10.3 ]\n [1948.     10.3 ]\n [1952.     10.4 ]\n [1956.     10.5 ]\n [1960.     10.2 ]\n [1964.     10.  ]\n [1968.      9.95]\n [1972.     10.14]\n [1976.     10.06]\n [1980.     10.25]\n [1984.      9.99]\n [1988.      9.92]\n [1992.      9.96]\n [1996.      9.84]\n [2000.      9.87]\n [2004.      9.85]\n [2008.      9.69]]\n"
     ]
    }
   ],
   "source": [
    "import numpy as np \n",
    "\n",
    "data = np.loadtxt('olympic100m.txt', delimiter = ',')\n",
    "print(data)"
   ]
  },
  {
   "cell_type": "markdown",
   "metadata": {},
   "source": [
    "#### Task 2: Plot the data\n",
    "Reference to `scatter`: https://matplotlib.org/3.1.1/api/_as_gen/matplotlib.pyplot.scatter.html"
   ]
  },
  {
   "cell_type": "code",
   "execution_count": 2,
   "metadata": {},
   "outputs": [
    {
     "output_type": "display_data",
     "data": {
      "text/plain": "<Figure size 432x288 with 1 Axes>",
      "image/png": "[encoded data removed]"
     },
     "metadata": {
      "needs_background": "light"
     }
    }
   ],
   "source": [
    "%matplotlib inline\n",
    "import pylab as plt\n",
    "\n",
    "x = data[:, 0]\n",
    "t = data[:, 1]\n",
    "\n",
    "plt.scatter(x, t)  # Draw a scatter plot.\n",
    "plt.xlabel('Years')\n",
    "plt.ylabel('Time (seconds)')\n",
    "plt.show()"
   ]
  },
  {
   "cell_type": "markdown",
   "metadata": {},
   "source": [
    "#### Task 3. Fit a straightline using `LinearRegression` in `sklean`. Plot the model with the data and prediction at 2012.\n",
    "Reference to `LinearRegression`: https://scikit-learn.org/stable/modules/generated/sklearn.linear_model.LinearRegression.html"
   ]
  },
  {
   "cell_type": "code",
   "execution_count": 3,
   "metadata": {},
   "outputs": [
    {
     "output_type": "stream",
     "name": "stdout",
     "text": [
      "w0: [36.4164559]\nw1: [[-0.01333089]]\n"
     ]
    }
   ],
   "source": [
    "from sklearn.linear_model import LinearRegression\n",
    "\n",
    "x = np.reshape(x, (x.shape[0], 1))  # Or: x[:, None].\n",
    "t = np.reshape(t, (t.shape[0], 1))  # Or: t[:, None].\n",
    "\n",
    "reg = LinearRegression().fit(x, t)\n",
    "print('w0:', reg.intercept_)\n",
    "print('w1:', reg.coef_)"
   ]
  },
  {
   "source": [
    "Generate new x to plot the fitted line. Note better not to use the original x! Plot the fitted model. Plot the prediction at 2012. Draw a scatter plot."
   ],
   "cell_type": "markdown",
   "metadata": {}
  },
  {
   "cell_type": "code",
   "execution_count": 4,
   "metadata": {},
   "outputs": [
    {
     "output_type": "display_data",
     "data": {
      "text/plain": "<Figure size 432x288 with 1 Axes>",
      "image/png": "[encoded data removed]"
     },
     "metadata": {
      "needs_background": "light"
     }
    }
   ],
   "source": [
    "x_test = np.linspace(1880, 2020, 100)\n",
    "plt.plot(x_test, reg.predict(np.reshape(x_test, (x_test.shape[0], 1))), 'b-', linewidth = 2)\n",
    "plt.plot(2012, reg.predict(np.array([[2012]])), 'ro')\n",
    "plt.scatter(x, t)\n",
    "plt.xlabel('Years')\n",
    "plt.ylabel('Time (seconds)')\n",
    "plt.show()"
   ]
  },
  {
   "cell_type": "markdown",
   "metadata": {},
   "source": [
    "#### Task 5: Fit the model with the Least Square solution. Plot the model with the data and prediction at 2012.\n",
    "\n",
    "Let's fit a model with an analytical solution to the problem of finding the parameters with the minimum average loss. \n",
    "\n",
    "Recall that the average loss is $$  L(w_0, w_1) = \\frac{1}{N}\\sum_{n=1}^N (t_n - w_0 - w_1x_n)^2 $$\n",
    "$L$ is a function of $w_0$ and $w_1$. All $x_n$ and $t_n$ are given.  \n",
    "\n",
    "The procedure to find the analytical expression of the optimal parameters is the following:\n",
    "\n",
    "- Solving $$\\frac{\\partial L(w_0, w_1)}{\\partial w_0} = 0, \\quad \\frac{\\partial L(w_0, w_1)}{\\partial w_1} = 0 $$ \n",
    "- the average loss is minimised:\n",
    "$$ w_1 = \\frac{\\bar{x}\\bar{t} - \\bar{xt}}{\\bar{x}\\bar{x} - \\bar{x^2}} $$\n",
    "and\n",
    "$$ w_0 = \\bar{t} - w_1\\bar{x} $$\n",
    "where $\\bar{z} = \\frac{1}{N}\\sum_{n=1}^N z_n$.\n",
    "\n",
    "You are encouraged to derive these yourself"
   ]
  },
  {
   "cell_type": "code",
   "execution_count": 5,
   "metadata": {},
   "outputs": [
    {
     "output_type": "stream",
     "name": "stdout",
     "text": [
      "1952.3703703703704\n10.389629629629631\n3812975.5555555555\n20268.06814814815\n"
     ]
    }
   ],
   "source": [
    "xbar = np.mean(x)\n",
    "tbar = np.mean(t)\n",
    "xxbar = np.mean(x * x)\n",
    "xtbar = np.mean(x * t)\n",
    "print(xbar)\n",
    "print(tbar)\n",
    "print(xxbar)\n",
    "print(xtbar)"
   ]
  },
  {
   "cell_type": "code",
   "execution_count": 6,
   "metadata": {},
   "outputs": [
    {
     "output_type": "stream",
     "name": "stdout",
     "text": [
      "w0: 36.41645590250286\nw1: -0.013330885710960602\n"
     ]
    }
   ],
   "source": [
    "w1 = (xbar * tbar - xtbar) / (xbar * xbar - xxbar)\n",
    "w0 = tbar - w1 * xbar\n",
    "print('w0:', w0)\n",
    "print('w1:', w1)"
   ]
  },
  {
   "source": [
    "Generate new x to plot the fitted line. Note better not to use the original x! Plot the fitted model. Plot the fitted data. Draw a scatter plot."
   ],
   "cell_type": "markdown",
   "metadata": {}
  },
  {
   "cell_type": "code",
   "execution_count": 7,
   "metadata": {},
   "outputs": [
    {
     "output_type": "display_data",
     "data": {
      "text/plain": "<Figure size 432x288 with 1 Axes>",
      "image/png": "[encoded data removed]"
     },
     "metadata": {
      "needs_background": "light"
     }
    }
   ],
   "source": [
    "plt.plot(x_test, w0 + w1 * x_test, 'b-', linewidth = 2)  # \"x_test\" in Task 3.\n",
    "plt.plot(2012, w0 + w1 * 2012, 'ro')\n",
    "plt.scatter(x, t)\n",
    "plt.xlabel('Years')\n",
    "plt.ylabel('Time (seconds)')\n",
    "plt.show()"
   ]
  }
 ],
 "metadata": {
  "kernelspec": {
   "name": "python388jvsc74a57bd083ad9dc287f1bd68e1373a062e5fec25449c786b53be0804b995b765c2d61fc9",
   "display_name": "Python 3.8.8 64-bit (conda)"
  },
  "language_info": {
   "codemirror_mode": {
    "name": "ipython",
    "version": 3
   },
   "file_extension": ".py",
   "mimetype": "text/x-python",
   "name": "python",
   "nbconvert_exporter": "python",
   "pygments_lexer": "ipython3",
   "version": "3.8.8-final"
  }
 },
 "nbformat": 4,
 "nbformat_minor": 2
}