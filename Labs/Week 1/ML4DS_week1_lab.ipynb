{
 "cells": [
  {
   "cell_type": "markdown",
   "metadata": {},
   "source": [
    "<h3>ML4DS Lab: week 1: Simple linear regression lab</h3>\n",
    "\n",
    "#### Aims \n",
    "\n",
    "* Do a simple linear regression on the Olympic 100~m data in Python\n",
    "* Practise numpy, matplotlib, and sklearn\n",
    "\n",
    "\n",
    "#### Tasks \n",
    "* Download the data (‘olympic100m.txt’) from the Moodle page\n",
    "* Plot Olympic year against winning time\n",
    "* Plot the loss function in 1D and 2D\n",
    "* Fit a model with sklearn functions \n",
    "* Fit a model with using provided expressions to compute $w_0$ and $w_1$. \n",
    "* Create a new plot that includes the data and the function defined by $w_0$ and $w_1$\n",
    "* Make a prediction at 2012"
   ]
  },
  {
   "cell_type": "markdown",
   "metadata": {},
   "source": [
    "#### Task 1: Download and import the olympic data\n",
    "\n",
    "Reference to `loadtxt` https://docs.scipy.org/doc/numpy/reference/generated/numpy.loadtxt.html"
   ]
  },
  {
   "cell_type": "code",
   "execution_count": 30,
   "metadata": {},
   "outputs": [
    {
     "data": {
      "text/plain": [
       "array([[1896.  ,   12.  ],\n",
       "       [1900.  ,   11.  ],\n",
       "       [1904.  ,   11.  ],\n",
       "       [1906.  ,   11.2 ],\n",
       "       [1908.  ,   10.8 ],\n",
       "       [1912.  ,   10.8 ],\n",
       "       [1920.  ,   10.8 ],\n",
       "       [1924.  ,   10.6 ],\n",
       "       [1928.  ,   10.8 ],\n",
       "       [1932.  ,   10.3 ],\n",
       "       [1936.  ,   10.3 ],\n",
       "       [1948.  ,   10.3 ],\n",
       "       [1952.  ,   10.4 ],\n",
       "       [1956.  ,   10.5 ],\n",
       "       [1960.  ,   10.2 ],\n",
       "       [1964.  ,   10.  ],\n",
       "       [1968.  ,    9.95],\n",
       "       [1972.  ,   10.14],\n",
       "       [1976.  ,   10.06],\n",
       "       [1980.  ,   10.25],\n",
       "       [1984.  ,    9.99],\n",
       "       [1988.  ,    9.92],\n",
       "       [1992.  ,    9.96],\n",
       "       [1996.  ,    9.84],\n",
       "       [2000.  ,    9.87],\n",
       "       [2004.  ,    9.85],\n",
       "       [2008.  ,    9.69]])"
      ]
     },
     "execution_count": 30,
     "metadata": {},
     "output_type": "execute_result"
    }
   ],
   "source": [
    "import numpy as np \n",
    "..."
   ]
  },
  {
   "cell_type": "markdown",
   "metadata": {},
   "source": [
    "#### Task 2: Plot the data\n",
    "Reference to `scatter`: https://matplotlib.org/3.1.1/api/_as_gen/matplotlib.pyplot.scatter.html"
   ]
  },
  {
   "cell_type": "code",
   "execution_count": 31,
   "metadata": {},
   "outputs": [
    {
     "data": {
      "text/plain": [
       "Text(0, 0.5, 'Time (seconds)')"
      ]
     },
     "execution_count": 31,
     "metadata": {},
     "output_type": "execute_result"
    },
    {
     "data": {
      "image/png": "[encoded data removed]",
      "text/plain": [
       "<Figure size 432x288 with 1 Axes>"
      ]
     },
     "metadata": {
      "needs_background": "light"
     },
     "output_type": "display_data"
    }
   ],
   "source": [
    "%matplotlib inline\n",
    "import pylab as plt\n",
    "..."
   ]
  },
  {
   "cell_type": "markdown",
   "metadata": {},
   "source": [
    "#### Task 3. Fit a straightline using `LinearRegression` in `sklean`. Plot the model with the data and prediction at 2012.\n",
    "Reference to `LinearRegression`: https://scikit-learn.org/stable/modules/generated/sklearn.linear_model.LinearRegression.html"
   ]
  },
  {
   "cell_type": "code",
   "execution_count": 32,
   "metadata": {},
   "outputs": [
    {
     "name": "stdout",
     "output_type": "stream",
     "text": [
      "[array([36.4164559]), array([[-0.01333089]])]\n"
     ]
    }
   ],
   "source": [
    "from sklearn.linear_model import LinearRegression # import \n",
    "\n",
    "x = ...# 27 x 1 array\n",
    "t = ...# 27 x 1 array\n",
    "\n",
    "# print w0, w1"
   ]
  },
  {
   "cell_type": "code",
   "execution_count": 33,
   "metadata": {},
   "outputs": [
    {
     "data": {
      "text/plain": [
       "Text(0, 0.5, 'Time (seconds)')"
      ]
     },
     "execution_count": 33,
     "metadata": {},
     "output_type": "execute_result"
    },
    {
     "data": {
      "image/png": "[encoded data removed]",
      "text/plain": [
       "<Figure size 432x288 with 1 Axes>"
      ]
     },
     "metadata": {
      "needs_background": "light"
     },
     "output_type": "display_data"
    }
   ],
   "source": [
    "...# generate new x to plot the fitted line. Note better not to use the original x !\n",
    "...# plot the fitted model\n",
    "\n",
    "...# plot the prediction at 2012 \n",
    "...# draw a scatter plot\n",
    "...# always label x&y-axis"
   ]
  },
  {
   "cell_type": "markdown",
   "metadata": {},
   "source": [
    "#### Task 5: Fit the model with the Least Square solution. Plot the model with the data and prediction at 2012.\n",
    "\n",
    "Let's fit a model with an analytical solution to the problem of finding the parameters with the minimum average loss. \n",
    "\n",
    "Recall that the average loss is $$  L(w_0, w_1) = \\frac{1}{N}\\sum_{n=1}^N (t_n - w_0 - w_1x_n)^2 $$\n",
    "$L$ is a function of $w_0$ and $w_1$. All $x_n$ and $t_n$ are given.  \n",
    "\n",
    "The procedure to find the analytical expression of the optimal parameters is the following:\n",
    "\n",
    "- Solving $$\\frac{\\partial L(w_0, w_1)}{\\partial w_0} = 0, \\quad \\frac{\\partial L(w_0, w_1)}{\\partial w_1} = 0 $$ \n",
    "- the average loss is minimised:\n",
    "$$ w_1 = \\frac{\\bar{x}\\bar{t} - \\bar{xt}}{\\bar{x}\\bar{x} - \\bar{x^2}} $$\n",
    "and\n",
    "$$ w_0 = \\bar{t} - w_1\\bar{x} $$\n",
    "where $\\bar{z} = \\frac{1}{N}\\sum_{n=1}^N z_n$.\n",
    "\n",
    "You are encouraged to derive these yourself"
   ]
  },
  {
   "cell_type": "code",
   "execution_count": 34,
   "metadata": {},
   "outputs": [
    {
     "name": "stdout",
     "output_type": "stream",
     "text": [
      "1952.3703703703704\n",
      "10.389629629629631\n",
      "3812975.5555555555\n",
      "20268.06814814815\n"
     ]
    }
   ],
   "source": [
    "xbar = ...\n",
    "tbar = ...\n",
    "xxbar = ...\n",
    "xtbar = ...\n",
    "print(xbar)\n",
    "print(tbar)\n",
    "print(xxbar)\n",
    "print(xtbar)"
   ]
  },
  {
   "cell_type": "code",
   "execution_count": 35,
   "metadata": {},
   "outputs": [
    {
     "name": "stdout",
     "output_type": "stream",
     "text": [
      "36.41645590250286\n",
      "-0.013330885710960602\n"
     ]
    }
   ],
   "source": [
    "w1 = ...\n",
    "w0 = ...\n",
    "print(w0)\n",
    "print(w1)"
   ]
  },
  {
   "cell_type": "code",
   "execution_count": 36,
   "metadata": {},
   "outputs": [
    {
     "data": {
      "text/plain": [
       "Text(0, 0.5, 'Time (seconds)')"
      ]
     },
     "execution_count": 36,
     "metadata": {},
     "output_type": "execute_result"
    },
    {
     "data": {
      "image/png": "[encoded data removed]",
      "text/plain": [
       "<Figure size 432x288 with 1 Axes>"
      ]
     },
     "metadata": {
      "needs_background": "light"
     },
     "output_type": "display_data"
    }
   ],
   "source": [
    "...# generate new x to plot the fitted line. Note better not to use the original x !\n",
    "...# plot the fitted model\n",
    "\n",
    "...# plot the fitted data\n",
    "...# draw a scatter plot\n",
    "...# always label x&y-axis"
   ]
  },
  {
   "cell_type": "code",
   "execution_count": null,
   "metadata": {},
   "outputs": [],
   "source": []
  }
 ],
 "metadata": {
  "kernelspec": {
   "display_name": "Python 3",
   "language": "python",
   "name": "python3"
  },
  "language_info": {
   "codemirror_mode": {
    "name": "ipython",
    "version": 3
   },
   "file_extension": ".py",
   "mimetype": "text/x-python",
   "name": "python",
   "nbconvert_exporter": "python",
   "pygments_lexer": "ipython3",
   "version": "3.7.3"
  }
 },
 "nbformat": 4,
 "nbformat_minor": 2
}
